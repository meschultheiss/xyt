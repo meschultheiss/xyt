{
 "cells": [
  {
   "cell_type": "markdown",
   "metadata": {},
   "source": [
    "## Instance: GPSAnalytics()\n",
    "In this notebook you can find all the necessary steps to compute descriptive statistics on the staypoint dataframe. It also requires the leg for computing distances for instance.\n",
    "\n",
    "The objective for the library user is to get two dafaframes :\n",
    "- the df at the end of PART 1 through the following pipeline\n",
    "    - `check_inputs(leg, staypoint)` To be done: A small function to check if the input data have the right columns else ask user to adapt input data\n",
    "    - `split_overnight()`\n",
    "    - `spatial_clustering()`\n",
    "    - `get_metrics()`\n",
    "    \n",
    "- the df at the end of PART 2\n",
    "    - `get_daily_metrics()`"
   ]
  },
  {
   "cell_type": "code",
   "execution_count": null,
   "metadata": {},
   "outputs": [],
   "source": [
    "#from gps_analytics import *\n",
    "from xyt import GPSAnalytics\n",
    "import pandas as pd\n",
    "from functions_preprocessing import *\n",
    "\n",
    "%reload_ext autoreload\n",
    "%autoreload 2"
   ]
  },
  {
   "cell_type": "markdown",
   "metadata": {},
   "source": [
    "Load staypoints"
   ]
  },
  {
   "cell_type": "code",
   "execution_count": null,
   "metadata": {},
   "outputs": [],
   "source": [
    "%%time\n",
    "# READ FILES\n",
    "act = pd.read_pickle('sample_data/staypoint_sample_panel.pkl').reset_index()\n",
    "act.rename(columns={'IDNO':'user_id', 'id':'activity_id'}, inplace=True)\n",
    "del act['type']"
   ]
  },
  {
   "cell_type": "code",
   "execution_count": null,
   "metadata": {},
   "outputs": [],
   "source": [
    "act.head(2)"
   ]
  },
  {
   "cell_type": "code",
   "execution_count": null,
   "metadata": {},
   "outputs": [],
   "source": [
    "%%time\n",
    "# Extract longitude and latitude into separate columns\n",
    "act['lon'] = act['geometry'].apply(lambda point: point.x)\n",
    "act['lat'] = act['geometry'].apply(lambda point: point.y)\n",
    "#Parse the activity df to datetime and geopandas\n",
    "act = parse_time_geo_data(act, geo_columns=['lon','lat'], datetime_format='%Y-%m-%d %H:%M:%S', CRS2='EPSG:2056')\n",
    "del act['geometry']"
   ]
  },
  {
   "cell_type": "code",
   "execution_count": null,
   "metadata": {},
   "outputs": [],
   "source": [
    "act.head(3)"
   ]
  },
  {
   "cell_type": "markdown",
   "metadata": {},
   "source": [
    "Load legs"
   ]
  },
  {
   "cell_type": "code",
   "execution_count": null,
   "metadata": {},
   "outputs": [],
   "source": [
    "%%time\n",
    "leg = pd.read_pickle('sample_data/leg_sample_panel.pkl').reset_index()\n",
    "leg.rename(columns={'id':'leg_id', 'IDNO':'user_id'}, inplace=True)\n",
    "leg['started_at'] = pd.to_datetime(leg['started_at'])\n",
    "leg['finished_at'] = pd.to_datetime(leg['finished_at'])\n",
    "\n",
    "# Add the leg destination activity_id\n",
    "leg = find_next_activity_id(leg, act)\n",
    "\n",
    "# Add a 'length' column in meters\n",
    "leg = gpd.GeoDataFrame(leg, geometry='geometry', crs='EPSG:4327')\n",
    "leg['length'] = leg.to_crs(crs='EPSG:2056').length\n",
    "\n",
    "# Calculate the duration in seconds and add a 'duration' column in minutes\n",
    "leg['duration'] = (leg['finished_at'] - leg['started_at']).dt.total_seconds() / 60\n",
    "\n",
    "leg.head(2)\n"
   ]
  },
  {
   "cell_type": "markdown",
   "metadata": {},
   "source": [
    "## Part 1"
   ]
  },
  {
   "cell_type": "markdown",
   "metadata": {},
   "source": [
    "**Data format**\n",
    "\n",
    "In order to perform Part 1, you must have a staypoint df and a leg df with at least the following columns : \n",
    "```python\n",
    "staypoint.columns = ['activity_id', 'started_at', 'finished_at',\n",
    "       'purpose', 'user_id', 'lon', 'lat']\n",
    "```\n",
    "```python\n",
    "leg.columns = ['leg_id', 'started_at', 'finished_at',\n",
    "       'detected_mode', 'mode', 'user_id', 'geometry', 'next_activity_id',\n",
    "       'length', 'duration']\n",
    "```\n",
    "Pay attention to the format of (in particular) the columns with datetimes or geometries.\n",
    "Also, having a `purpose == 'home'`will help complete the calculations.\n",
    "\n",
    "**XYT instance implementation**\n",
    "\n",
    "Output of part 1 is an extended staypoint df with extra columns\n",
    "```python\n",
    "extended_staypoint = GPSAnalytics().metrics()\n",
    "extended_staypoint.columns = ['leg_id', 'started_at', 'finished_at',\n",
    "       'detected_mode', 'mode', 'user_id', 'geometry', 'next_activity_id',\n",
    "       'length', 'duration''cluster', 'cluster_size', 'cluster_info', 'location_id',\n",
    "       'peak', 'first_dep', 'last_arr', 'home_loop', 'daily_trip_dist',\n",
    "       'num_trip', 'max_dist', 'min_dist', 'max_dist_from_home',\n",
    "       'dist_from_home', 'home_location_id', 'weekday']\n",
    "\n",
    "```"
   ]
  },
  {
   "cell_type": "code",
   "execution_count": null,
   "metadata": {},
   "outputs": [],
   "source": [
    "metrics = GPSAnalytics()"
   ]
  },
  {
   "cell_type": "markdown",
   "metadata": {},
   "source": [
    "- `GPSAnalytics().metrics.split_overnight()`"
   ]
  },
  {
   "cell_type": "code",
   "execution_count": null,
   "metadata": {},
   "outputs": [],
   "source": [
    "%%time\n",
    "#split the overnight activity into last and first activities\n",
    "staypoint1 = metrics.split_overnight(act)"
   ]
  },
  {
   "cell_type": "markdown",
   "metadata": {},
   "source": [
    "- `GPSAnalytics().metrics.spatial_clustering()`"
   ]
  },
  {
   "cell_type": "code",
   "execution_count": null,
   "metadata": {},
   "outputs": [],
   "source": [
    "%%time\n",
    "staypoint2 = metrics.spatial_clustering(staypoint1)"
   ]
  },
  {
   "cell_type": "markdown",
   "metadata": {},
   "source": [
    "- `GPSAnalytics().metrics.get_metrics()`"
   ]
  },
  {
   "cell_type": "code",
   "execution_count": null,
   "metadata": {},
   "outputs": [],
   "source": [
    "%%time\n",
    "extended_staypoint = metrics.get_metrics(staypoint2, leg)"
   ]
  },
  {
   "cell_type": "code",
   "execution_count": null,
   "metadata": {},
   "outputs": [],
   "source": [
    "extended_staypoint.head()"
   ]
  },
  {
   "cell_type": "markdown",
   "metadata": {},
   "source": [
    "## Part 2\n",
    "\n",
    "- `GPSAnalytics().metrics.get_daily_metrics()`\n",
    "\n",
    "Aggregate per day"
   ]
  },
  {
   "cell_type": "code",
   "execution_count": null,
   "metadata": {},
   "outputs": [],
   "source": [
    "%%time\n",
    "metrics.get_daily_metrics(extended_staypoint)"
   ]
  }
 ],
 "metadata": {
  "kernelspec": {
   "display_name": "Python 3 (ipykernel)",
   "language": "python",
   "name": "python3"
  },
  "language_info": {
   "codemirror_mode": {
    "name": "ipython",
    "version": 3
   },
   "file_extension": ".py",
   "mimetype": "text/x-python",
   "name": "python",
   "nbconvert_exporter": "python",
   "pygments_lexer": "ipython3",
   "version": "3.11.6"
  }
 },
 "nbformat": 4,
 "nbformat_minor": 4
}
