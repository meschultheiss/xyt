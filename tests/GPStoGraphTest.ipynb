{
 "cells": [
  {
   "cell_type": "markdown",
   "metadata": {},
   "source": [
    "## Instance: GPStoGraph()\n",
    "Takes as input the output of `GPSAnalytics().metrics.get_metrics()`\n",
    "\n",
    "The public methods should be the following:\n",
    "- `get_graphs()`\n",
    "- `plot_motif()`\n",
    "- `plot_graph()`\n",
    "- `motif_sequence()`"
   ]
  },
  {
   "cell_type": "code",
   "execution_count": null,
   "metadata": {},
   "outputs": [],
   "source": [
    "from xyt import GPSAnalytics, GPStoGraph\n",
    "\n",
    "from functions_preprocessing import *\n",
    "\n",
    "%reload_ext autoreload\n",
    "%autoreload 2"
   ]
  },
  {
   "cell_type": "markdown",
   "metadata": {},
   "source": [
    "## Part 1"
   ]
  },
  {
   "cell_type": "markdown",
   "metadata": {},
   "source": [
    "- `GPStoGraph().get_graphs()`"
   ]
  },
  {
   "cell_type": "code",
   "execution_count": null,
   "metadata": {},
   "outputs": [],
   "source": [
    "col_to_use = ['user_id','user_id_day','location_id','started_at','finished_at', 'lon', 'lat', 'home_location_id']\n",
    "# Here we input df from part 1\n",
    "nodes = pd.read_pickle('sample_data/extended_staypoint_sample_panel.pkl')[col_to_use]\n",
    "\n",
    "\n",
    "act = pd.read_pickle('sample_data/staypoint_sample_panel.pkl').reset_index()\n",
    "act.rename(columns={'IDNO':'user_id', 'id':'activity_id'}, inplace=True)\n",
    "# Extract longitude and latitude into separate columns\n",
    "act['lon'] = act['geometry'].apply(lambda point: point.x)\n",
    "act['lat'] = act['geometry'].apply(lambda point: point.y)\n",
    "#Parse the activity df to datetime and geopandas\n",
    "act = parse_time_geo_data(act, geo_columns=['lon','lat'], datetime_format='%Y-%m-%d %H:%M:%S', CRS2='EPSG:2056')\n",
    "del act['geometry']\n",
    "\n",
    "leg = pd.read_pickle('sample_data/leg_sample_panel.pkl').reset_index()\n",
    "leg.rename(columns={'id':'leg_id', 'IDNO':'user_id'}, inplace=True)\n",
    "leg['started_at'] = pd.to_datetime(leg['started_at'])\n",
    "leg['finished_at'] = pd.to_datetime(leg['finished_at'])\n",
    "\n",
    "# Add the leg destination activity_id\n",
    "leg = find_next_activity_id(leg, act)\n",
    "\n",
    "# Add a 'length' column in meters\n",
    "leg = gpd.GeoDataFrame(leg, geometry='geometry', crs='EPSG:4327')\n",
    "leg['length'] = leg.to_crs(crs='EPSG:2056').length\n",
    "\n",
    "# Calculate the duration in seconds and add a 'duration' column in minutes\n",
    "leg['duration'] = (leg['finished_at'] - leg['started_at']).dt.total_seconds() / 60\n",
    "\n",
    "metrics = GPSAnalytics()\n",
    "\n",
    "staypoint1 = metrics.split_overnight(act)\n",
    "staypoint2 = metrics.spatial_clustering(staypoint1)\n",
    "extended_staypoint = metrics.get_metrics(staypoint2, leg)\n",
    "day_staypoint = metrics.get_daily_metrics(extended_staypoint)\n",
    "\n",
    "graphs = GPStoGraph()\n",
    "multiday_graph = graphs.get_graphs(extended_staypoint)"
   ]
  },
  {
   "cell_type": "code",
   "execution_count": null,
   "metadata": {},
   "outputs": [],
   "source": [
    "multiday_graph"
   ]
  },
  {
   "cell_type": "markdown",
   "metadata": {},
   "source": [
    "## Part 2"
   ]
  },
  {
   "cell_type": "markdown",
   "metadata": {},
   "source": [
    "- `GPStoGraph().plot_graph()`"
   ]
  },
  {
   "cell_type": "code",
   "execution_count": null,
   "metadata": {},
   "outputs": [],
   "source": [
    "%%time\n",
    "\n",
    "graphs.plot_graph(multiday_graph, path=\"\")"
   ]
  },
  {
   "cell_type": "markdown",
   "metadata": {},
   "source": [
    "## Part 3"
   ]
  },
  {
   "cell_type": "markdown",
   "metadata": {},
   "source": [
    "- `GPStoGraph().plot_motif()`"
   ]
  },
  {
   "cell_type": "code",
   "execution_count": null,
   "metadata": {},
   "outputs": [],
   "source": [
    "#parse motif_id\n",
    "graphs.plot_motif(multiday_graph)"
   ]
  },
  {
   "cell_type": "markdown",
   "metadata": {},
   "source": [
    "## Part 4"
   ]
  },
  {
   "cell_type": "markdown",
   "metadata": {},
   "source": [
    "- `GPStoGraph().motif_sequence()`"
   ]
  },
  {
   "cell_type": "code",
   "execution_count": null,
   "metadata": {},
   "outputs": [],
   "source": [
    "motif_seq = graphs.motif_sequence(multiday_graph)"
   ]
  },
  {
   "cell_type": "code",
   "execution_count": null,
   "metadata": {},
   "outputs": [],
   "source": [
    "motif_seq"
   ]
  }
 ],
 "metadata": {
  "kernelspec": {
   "display_name": "Python 3 (ipykernel)",
   "language": "python",
   "name": "python3"
  },
  "language_info": {
   "codemirror_mode": {
    "name": "ipython",
    "version": 3
   },
   "file_extension": ".py",
   "mimetype": "text/x-python",
   "name": "python",
   "nbconvert_exporter": "python",
   "pygments_lexer": "ipython3",
   "version": "3.11.6"
  }
 },
 "nbformat": 4,
 "nbformat_minor": 4
}
