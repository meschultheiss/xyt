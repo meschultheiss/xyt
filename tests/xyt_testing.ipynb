{
 "cells": [
  {
   "cell_type": "code",
   "execution_count": null,
   "id": "3e95118d-06e0-400c-9101-d7160341a35f",
   "metadata": {},
   "outputs": [],
   "source": [
    "import pandas as pd\n",
    "import numpy as np\n",
    "from xyt import FakeDataGenerator, GPSDataProcessor, GPSDataPrivacy\n",
    "from xyt import plot_gps_on_map\n",
    "from privacy import *\n",
    "\n",
    "pd.set_option('display.max_rows', 500)\n",
    "pd.set_option('display.max_columns', 500)"
   ]
  },
  {
   "cell_type": "markdown",
   "id": "8c78dad5-09f9-4333-bce4-4d590eb84498",
   "metadata": {},
   "source": [
    "## REMAINS TO DO : \n",
    "\n",
    "GPSDataProcessor --> FIX THE MULTIPROCESSING AND TEST"
   ]
  },
  {
   "cell_type": "code",
   "execution_count": null,
   "id": "ec651c6c-5f9a-4b3e-b46e-4ba8553c9742",
   "metadata": {},
   "outputs": [],
   "source": [
    "fakegps = FakeDataGenerator(location_name=\"Suisse\", num_users=5, home_radius_km = 20)\n",
    "waypoints = fakegps.generate_waypoints(num_rows=12, num_extra_od_points=10, max_displacement_meters = 10)\n",
    "legs = fakegps.generate_legs(num_rows=12)\n",
    "stays = fakegps.generate_staypoints(num_rows=12)"
   ]
  },
  {
   "cell_type": "code",
   "execution_count": null,
   "id": "59b5cb31-badc-41de-b453-3e8eb89852cb",
   "metadata": {},
   "outputs": [],
   "source": [
    "waypoints.columns"
   ]
  },
  {
   "cell_type": "code",
   "execution_count": null,
   "id": "024bba91-f621-43b2-80de-281f4c1d7412",
   "metadata": {},
   "outputs": [],
   "source": [
    "data_processor = GPSDataProcessor(radius=0.03)\n",
    "poi_waypoints = data_processor.guess_home_work(waypoints, cell_size=0.3)\n",
    "smoothed_df = data_processor.smooth(poi_waypoints, sigma=10)\n",
    "segmented_df = data_processor.segment(smoothed_df)\n",
    "mode_df = data_processor.mode_detection(segmented_df)\n",
    "legs_ = data_processor.get_legs(df = mode_df)"
   ]
  },
  {
   "cell_type": "code",
   "execution_count": null,
   "id": "8b1d84e0-b3d5-49a7-a802-ceb5e1666718",
   "metadata": {},
   "outputs": [],
   "source": [
    "poi_waypoints"
   ]
  },
  {
   "cell_type": "code",
   "execution_count": null,
   "id": "5697fe58-a990-408d-ae80-69c178f74189",
   "metadata": {},
   "outputs": [],
   "source": [
    "plot_gps_on_map(poi_waypoints, home_col='home_loc', work_col='work_loc')"
   ]
  },
  {
   "cell_type": "markdown",
   "id": "7cd6595d-0b46-4859-a1ef-c3e3e4ca9e94",
   "metadata": {},
   "source": [
    "## NEXT: ADD THE INSTANCE PRIVACY"
   ]
  },
  {
   "cell_type": "markdown",
   "id": "397a45c8-4f0f-4e8b-bb28-fa06f59a07df",
   "metadata": {},
   "source": [
    "You need to get a list of unique tuples of areas you want to obfuscate first"
   ]
  },
  {
   "cell_type": "code",
   "execution_count": null,
   "id": "429b669a-863b-416e-9b9e-17fa1477492d",
   "metadata": {},
   "outputs": [],
   "source": [
    "df = poi_waypoints.copy()\n",
    "\n",
    "# Create a list of unique tuples from 'home_loc' and 'work_loc' columns\n",
    "unique_tuples = list(set((point.x, point.y) for point in df['home_loc']))\n",
    "unique_tuples.extend(set((point.x, point.y) for point in df['work_loc']))\n",
    "unique_tuples = list(set(unique_tuples))\n",
    "\n",
    "print(unique_tuples)"
   ]
  },
  {
   "cell_type": "code",
   "execution_count": null,
   "id": "26c326d0-8665-46df-b5b3-5a155f84cffe",
   "metadata": {},
   "outputs": [],
   "source": [
    "GPSDataPrivacy = GPSDataPrivacy()\n",
    "df, loc = GPSDataPrivacy.obfuscate(poi_waypoints, unique_tuples, radius=2000)"
   ]
  },
  {
   "cell_type": "code",
   "execution_count": null,
   "id": "ce99abf4-d9c6-4c90-a89d-2f41d2a4c684",
   "metadata": {},
   "outputs": [],
   "source": [
    "loc[0]"
   ]
  },
  {
   "cell_type": "markdown",
   "id": "184e3241-248f-46a2-b9c3-dcfdb219fe87",
   "metadata": {},
   "source": [
    "It would be nice to have a circle around the obfuscated places"
   ]
  },
  {
   "cell_type": "code",
   "execution_count": null,
   "id": "579c75bf-41f1-4d62-8196-fbec9b885276",
   "metadata": {},
   "outputs": [],
   "source": [
    "plot_gps_on_map(df, home_col='home_loc', work_col='work_loc')"
   ]
  },
  {
   "cell_type": "code",
   "execution_count": null,
   "id": "07fada5b-bc90-4929-92cf-a575249d556b",
   "metadata": {},
   "outputs": [],
   "source": [
    "import folium\n",
    "from folium import plugins  # Import the 'plugins' module\n",
    "\n",
    "\n",
    "aggregated_waypoints = GPSDataPrivacy.aggregate(poi_waypoints).reset_index()\n",
    "possible_times = aggregated_waypoints.tracked_at.dt.date.unique()\n",
    "\n",
    "#save selection\n",
    "selected_timestamp = possible_times[-1]  # You can use a default value or interactively select it\n",
    "selected_agg_data = aggregated_waypoints[aggregated_waypoints['tracked_at'].dt.date == selected_timestamp]\n",
    "points = np.column_stack((aggregated_waypoints.cell_longitude.values, aggregated_waypoints.cell_latitude.values))\n",
    "\n",
    "m = folium.Map(location=points[0])\n",
    "hm = plugins.HeatMap(points)\n",
    "m.add_child(hm)\n",
    "\n",
    "display(m)\n"
   ]
  },
  {
   "cell_type": "code",
   "execution_count": null,
   "id": "0d7531ed-c02d-4e3e-81aa-15e1edddf84b",
   "metadata": {},
   "outputs": [],
   "source": [
    "possible_times"
   ]
  }
 ],
 "metadata": {
  "kernelspec": {
   "display_name": "Python 3 (ipykernel)",
   "language": "python",
   "name": "python3"
  },
  "language_info": {
   "codemirror_mode": {
    "name": "ipython",
    "version": 3
   },
   "file_extension": ".py",
   "mimetype": "text/x-python",
   "name": "python",
   "nbconvert_exporter": "python",
   "pygments_lexer": "ipython3",
   "version": "3.11.6"
  }
 },
 "nbformat": 4,
 "nbformat_minor": 5
}
